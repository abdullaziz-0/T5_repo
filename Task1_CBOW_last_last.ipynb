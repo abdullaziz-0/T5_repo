{
  "cells": [
    {
      "cell_type": "markdown",
      "metadata": {
        "id": "L4G-WdYBozAF"
      },
      "source": [
        "# Continuous Bag of Words (CBOW) Model"
      ]
    },
    {
      "cell_type": "markdown",
      "metadata": {
        "id": "RhS9KCVPpSy2"
      },
      "source": [
        "In this exam, we will create a CBOW model using a sample Arabic traffic corpus. The corpus consists of sentences describing various traffic scenarios. The goal of the CBOW model is to predict a target word based on its surrounding context words."
      ]
    },
    {
      "cell_type": "markdown",
      "metadata": {
        "id": "BmX5AlBspz6g"
      },
      "source": [
        "# Importing Required Libraries"
      ]
    },
    {
      "cell_type": "markdown",
      "metadata": {
        "id": "S6Ba2ibzpydu"
      },
      "source": [
        "In this step, we import the necessary libraries to build and train the Continuous Bag of Words (CBOW) model.\n",
        "\n",
        "- **TensorFlow and Keras**: Used to build the neural network model, including the layers like `Embedding`, `Dense`, and `Lambda`.\n",
        "- **Tokenizer**: A utility from Keras for tokenizing and processing text data.\n",
        "- **NumPy**: Used for handling numerical operations, particularly for processing arrays and data manipulation.\n",
        "\n",
        "These libraries will provide the essential tools for text preprocessing and model development in the upcoming steps.\n",
        "\n",
        "Add more if needed!\n"
      ]
    },
    {
      "cell_type": "code",
      "execution_count": 20,
      "metadata": {
        "id": "vLFR0MF1p2Y2"
      },
      "outputs": [],
      "source": [
        "from tensorflow.keras.models import Sequential\n",
        "from tensorflow.keras.layers import Embedding, Dense, Lambda, Dropout\n",
        "from tensorflow.keras.preprocessing.text import Tokenizer\n",
        "from tensorflow.keras.preprocessing import sequence\n",
        "import tensorflow as tf\n",
        "import numpy as np\n",
        "from collections import Counter"
      ]
    },
    {
      "cell_type": "markdown",
      "metadata": {
        "id": "-LHg8WazpVFL"
      },
      "source": [
        "# Preparing the Corpus"
      ]
    },
    {
      "cell_type": "markdown",
      "metadata": {
        "id": "aXDrgRcvoliV"
      },
      "source": [
        "In this step, we initialize the corpus that will be used for training the Continuous Bag of Words (CBOW) model. The corpus consists of Arabic sentences, each of which describes different traffic scenarios.\n",
        "\n",
        "- **Corpus**: A collection of traffic-related sentences in Arabic.\n",
        "\n",
        "This step sets up the text data that we will use in the upcoming stages of tokenization and model training."
      ]
    },
    {
      "cell_type": "code",
      "execution_count": 21,
      "metadata": {
        "id": "qEQJL-CNjjvO"
      },
      "outputs": [],
      "source": [
        "corpus = [\n",
        "    \"الطريق مزدحم اليوم بسبب الحادث المروري الذي حدث صباحاً ويؤدي إلى تأخير كبير في الوصول\",\n",
        "    \"كان الطريق مزدحما للغاية والسيارات متوقفة تقريباً نتيجة الازدحام الشديد والحركة بطيئة جداً ولا تتحسن\",\n",
        "    \"أنا أحب الذهاب إلى السوق في الصباح الباكر لتفادي الازدحام وشراء الخضروات الطازجة دون الانتظار في الطريق\",\n",
        "    \"السيارات بطيئة بسبب الازدحام المروري في الشارع الرئيسي والتأخير في حركة المرور خلال ساعات الذروة\",\n",
        "    \"هناك ازدحام مروري في الشارع بسبب أعمال البناء والحفريات التي تعطل حركة السيارات وتتسبب في تأخير كبير\",\n",
        "    \"ازدحام السيارات يزداد في المساء عندما يبدأ الجميع بالعودة إلى منازلهم من العمل وتتوقف حركة المرور بالكامل\",\n",
        "    \"الطريق السريع يشهد ازدحاما مستمرا خلال فترة الظهيرة بسبب الشاحنات الكبيرة التي تبطئ حركة السير\",\n",
        "    \"الحافلات والسيارات عالقة في الازدحام المروري في المنطقة التجارية مما يؤدي إلى تأخير وصول الناس إلى وجهاتهم\",\n",
        "    \"حركة المرور مزدحمة اليوم بسبب الفعاليات التي تقام في وسط المدينة مما يزيد من صعوبة الوصول إلى هناك\",\n",
        "    \"كان من الصعب جدا القيادة على الطريق الرئيسي اليوم بسبب الازدحام الخانق الذي استمر طوال اليوم\",\n",
        "    \"الطريق إلى المطار مزدحم اليوم بسبب الحوادث المتكررة والتأخيرات الكبيرة في حركة المرور على الطريق السريع\",\n",
        "    \"الشارع مزدحم بالسيارات والحافلات الكبيرة مما يجعل التنقل بطيئًا جدًا ويزيد من وقت الوصول إلى العمل\",\n",
        "    \"ازدحام السيارات في المدينة أصبح مشكلة كبيرة خاصة خلال ساعات الذروة حيث يصعب التحرك بسرعة\",\n",
        "    \"تفاقم الازدحام في الطرق الجانبية بسبب إغلاق الطريق الرئيسي المؤدي إلى وسط المدينة لصيانة الجسر\",\n",
        "    \"ازدحام مروري خانق يواجه السكان يوميًا خلال تنقلهم من وإلى العمل على الطرق السريعة المؤدية إلى المدينة\",\n",
        "    \"التأخيرات المرورية اليوم ناجمة عن سوء الأحوال الجوية والضباب الذي يعيق الرؤية ويبطئ حركة السيارات\",\n",
        "    \"حوادث السير المتكررة على الطريق الزراعي تؤدي إلى ازدحام مروري شديد وتأخير كبير في وصول السيارات\",\n",
        "    \"كانت حركة السير اليوم غير منتظمة بسبب تنظيم حدث رياضي كبير أدى إلى إغلاق بعض الشوارع الرئيسية\",\n",
        "    \"الأعمال الإنشائية في الشارع الرئيسي تسببت في اختناق مروري كامل وتباطؤ في حركة السيارات خلال النهار\",\n",
        "    \"تراكم السيارات عند تقاطع الطرق الرئيسية أدى إلى ازدحام شديد وزيادة كبيرة في مدة الانتظار للوصول إلى الجهة المطلوبة\"\n",
        "]"
      ]
    },
    {
      "cell_type": "markdown",
      "metadata": {
        "id": "TtAp6KPlqBzA"
      },
      "source": [
        "# Defining Vocabulary and Model Parameters"
      ]
    },
    {
      "cell_type": "markdown",
      "metadata": {
        "id": "EOPRl8IfqAHo"
      },
      "source": [
        "In this step, we define key parameters that will be used to configure the CBOW model.\n",
        "\n",
        "- **Vocabulary size**: We calculate the size of the vocabulary based on the number of unique words in the corpus. The `vocab_size` represents the total number of unique tokens (words) in the dataset plus one for padding.\n",
        "  \n",
        "- **Embedding size**: The `embedding_size` defines the dimensionality of the word embeddings. In this case, we set the embedding size to 10, meaning each word will be represented as a 10-dimensional vector in the embedding layer.\n",
        "\n",
        "- **Window size**: The `window_size` defines how many words to the left and right of the target word are considered as context. Here, a window size of 2 means that two words before and two words after the target word will be used as context.\n",
        "\n",
        "These parameters will play an essential role in shaping the CBOW model architecture.\n"
      ]
    },
    {
      "cell_type": "code",
      "source": [
        "words = [word for sentence in corpus for word in sentence.split()]\n",
        "word_freq = Counter(words)\n",
        "\n",
        "vocab_length = len(word_freq) + 1\n",
        "print(vocab_length)\n",
        "\n",
        "embed_size = 10\n",
        "win_size = 2\n"
      ],
      "metadata": {
        "colab": {
          "base_uri": "https://localhost:8080/"
        },
        "id": "WB831sx8wNKW",
        "outputId": "6f870e87-57af-4f1b-87c2-a98654e07153"
      },
      "execution_count": 22,
      "outputs": [
        {
          "output_type": "stream",
          "name": "stdout",
          "text": [
            "179\n"
          ]
        }
      ]
    },
    {
      "cell_type": "markdown",
      "metadata": {
        "id": "w6b35855qQqP"
      },
      "source": [
        "# Preparing Context-Target Pairs for CBOW"
      ]
    },
    {
      "cell_type": "markdown",
      "metadata": {
        "id": "589xXbYmqEuR"
      },
      "source": [
        "In this step, we generate the context-target pairs from the tokenized sequences to train the CBOW model.\n",
        "\n",
        "- **Context words**: For each word in a sequence, the surrounding words (within the window size) are considered as context. The context consists of the words immediately before and after the target word.\n",
        "  \n",
        "- **Target word**: The word in the middle of the context window is treated as the target word that the model will learn to predict.\n",
        "\n",
        "We iterate through each sequence, collecting the context words and corresponding target words:\n",
        "- For each word in a sequence, we gather the surrounding words based on the defined window size.\n",
        "- The middle word is the target, and the surrounding words form the context.\n",
        "\n",
        "Finally:\n",
        "- **`X`**: An array of context words.\n",
        "- **`y`**: The target words are one-hot encoded, which means they are converted into a categorical format where each word is represented as a vector of length equal to the vocabulary size.\n",
        "\n",
        "These context-target pairs will be used to train the CBOW model to predict a target word based on its context.\n"
      ]
    },
    {
      "cell_type": "code",
      "execution_count": 25,
      "metadata": {
        "id": "c8c1MkYOqSfd",
        "colab": {
          "base_uri": "https://localhost:8080/"
        },
        "outputId": "96629c2c-a1a4-46f9-e72b-40eb971c8ed5"
      },
      "outputs": [
        {
          "output_type": "stream",
          "name": "stdout",
          "text": [
            "{'في': 1, 'إلى': 2, 'الطريق': 3, 'بسبب': 4, 'حركة': 5, 'السيارات': 6, 'اليوم': 7, 'الازدحام': 8, 'ازدحام': 9, 'خلال': 10, 'من': 11, 'كبير': 12, 'الشارع': 13, 'الرئيسي': 14, 'المرور': 15, 'مروري': 16, 'المدينة': 17, 'على': 18, 'مزدحم': 19, 'المروري': 20, 'الذي': 21, 'تأخير': 22, 'الوصول': 23, 'التي': 24, 'العمل': 25, 'الكبيرة': 26, 'السير': 27, 'مما': 28, 'الطرق': 29, 'حدث': 30, 'كان': 31, 'والسيارات': 32, 'بطيئة': 33, 'الانتظار': 34, 'ساعات': 35, 'الذروة': 36, 'هناك': 37, 'السريع': 38, 'وصول': 39, 'وسط': 40, 'المتكررة': 41, 'كبيرة': 42, 'إغلاق': 43, 'شديد': 44, 'أدى': 45, 'الرئيسية': 46, 'الحادث': 47, 'صباحاً': 48, 'ويؤدي': 49, 'مزدحما': 50, 'للغاية': 51, 'متوقفة': 52, 'تقريباً': 53, 'نتيجة': 54, 'الشديد': 55, 'والحركة': 56, 'جداً': 57, 'ولا': 58, 'تتحسن': 59, 'أنا': 60, 'أحب': 61, 'الذهاب': 62, 'السوق': 63, 'الصباح': 64, 'الباكر': 65, 'لتفادي': 66, 'وشراء': 67, 'الخضروات': 68, 'الطازجة': 69, 'دون': 70, 'والتأخير': 71, 'أعمال': 72, 'البناء': 73, 'والحفريات': 74, 'تعطل': 75, 'وتتسبب': 76, 'يزداد': 77, 'المساء': 78, 'عندما': 79, 'يبدأ': 80, 'الجميع': 81, 'بالعودة': 82, 'منازلهم': 83, 'وتتوقف': 84, 'بالكامل': 85, 'يشهد': 86, 'ازدحاما': 87, 'مستمرا': 88, 'فترة': 89, 'الظهيرة': 90, 'الشاحنات': 91, 'تبطئ': 92, 'الحافلات': 93, 'عالقة': 94, 'المنطقة': 95, 'التجارية': 96, 'يؤدي': 97, 'الناس': 98, 'وجهاتهم': 99, 'مزدحمة': 100, 'الفعاليات': 101, 'تقام': 102, 'يزيد': 103, 'صعوبة': 104, 'الصعب': 105, 'جدا': 106, 'القيادة': 107, 'الخانق': 108, 'استمر': 109, 'طوال': 110, 'المطار': 111, 'الحوادث': 112, 'والتأخيرات': 113, 'بالسيارات': 114, 'والحافلات': 115, 'يجعل': 116, 'التنقل': 117, 'بطيئًا': 118, 'جدًا': 119, 'ويزيد': 120, 'وقت': 121, 'أصبح': 122, 'مشكلة': 123, 'خاصة': 124, 'حيث': 125, 'يصعب': 126, 'التحرك': 127, 'بسرعة': 128, 'تفاقم': 129, 'الجانبية': 130, 'المؤدي': 131, 'لصيانة': 132, 'الجسر': 133, 'خانق': 134, 'يواجه': 135, 'السكان': 136, 'يوميًا': 137, 'تنقلهم': 138, 'وإلى': 139, 'السريعة': 140, 'المؤدية': 141, 'التأخيرات': 142, 'المرورية': 143, 'ناجمة': 144, 'عن': 145, 'سوء': 146, 'الأحوال': 147, 'الجوية': 148, 'والضباب': 149, 'يعيق': 150, 'الرؤية': 151, 'ويبطئ': 152, 'حوادث': 153, 'الزراعي': 154, 'تؤدي': 155, 'وتأخير': 156, 'كانت': 157, 'غير': 158, 'منتظمة': 159, 'تنظيم': 160, 'رياضي': 161, 'بعض': 162, 'الشوارع': 163, 'الأعمال': 164, 'الإنشائية': 165, 'تسببت': 166, 'اختناق': 167, 'كامل': 168, 'وتباطؤ': 169, 'النهار': 170, 'تراكم': 171, 'عند': 172, 'تقاطع': 173, 'وزيادة': 174, 'مدة': 175, 'للوصول': 176, 'الجهة': 177, 'المطلوبة': 178}\n"
          ]
        }
      ],
      "source": [
        "text_tokenizer = Tokenizer()\n",
        "text_tokenizer.fit_on_texts(corpus)\n",
        "text_sequences = text_tokenizer.texts_to_sequences(corpus)\n",
        "\n",
        "context_inputs = []\n",
        "target_outputs = []\n",
        "\n",
        "for seq in text_sequences:\n",
        "    for idx in range(win_size, len(seq) - win_size):\n",
        "        ctx = seq[idx - win_size:idx] + seq[idx + 1:idx + win_size + 1]\n",
        "        tgt = seq[idx]\n",
        "        context_inputs.append(ctx)\n",
        "        target_outputs.append(tgt)\n",
        "\n",
        "X_train = np.array(context_inputs)\n",
        "y_train = tf.keras.utils.to_categorical(target_outputs, num_classes=vocab_length)\n",
        "\n",
        "print(text_tokenizer.word_index)\n"
      ]
    },
    {
      "cell_type": "markdown",
      "metadata": {
        "id": "hgxmB4fZqU1A"
      },
      "source": [
        "# Building and Training the CBOW Model"
      ]
    },
    {
      "cell_type": "markdown",
      "metadata": {
        "id": "QkXe33DgqSvD"
      },
      "source": [
        "In this step, we build and train the Continuous Bag of Words (CBOW) model using the context-target pairs created earlier.\n",
        "\n",
        "1. **Model architecture**:\n",
        "   - **Embedding layer**: This layer transforms the input context words into dense vector representations (embeddings) of size defined by `embedding_size`. The `input_dim` is set to the vocabulary size, and the `input_length` is twice the window size (since context consists of words from both sides of the target).\n",
        "   \n",
        "   - **Lambda layer**: This layer computes the mean of the context word embeddings. It averages the embeddings of the context words to generate a single representation that will be used to predict the target word.\n",
        "   \n",
        "   - **Dense layer**: This fully connected layer outputs a probability distribution over the vocabulary, using the softmax activation function. It predicts the most likely target word based on the context word embeddings.\n",
        "\n",
        "2. **Compilation**:\n",
        "   The model is compiled using the Adam optimizer and categorical cross-entropy as the loss function, which is suitable for multi-class classification tasks. Accuracy is used as a metric to evaluate the model's performance during training.\n",
        "\n",
        "3. **Training the model**:\n",
        "   The model is trained on the context-target pairs for 500 epochs. During each epoch, the model learns to predict the target word based on the context, refining its weights to improve accuracy.\n",
        "\n",
        "4. **Saving the model weights**:\n",
        "   After training, the model weights are saved to a file (`cbow_model.weights.h5`) for future use. This allows us to load the trained model later without retraining.\n",
        "\n",
        "By the end of this step, the CBOW model will have learned to predict target words based on their surrounding context from the given corpus."
      ]
    },
    {
      "cell_type": "code",
      "execution_count": null,
      "metadata": {
        "id": "vL3UZZe3qhhh"
      },
      "outputs": [],
      "source": [
        "cbow_model = Sequential()\n",
        "cbow_model.add(Embedding(input_dim=vocab_length, output_dim=embed_size, input_length=2 * win_size))\n",
        "cbow_model.add(Lambda(lambda x: tf.reduce_mean(x, axis=1)))\n",
        "cbow_model.add(Dense(units=128, activation='relu'))\n",
        "cbow_model.add(Dropout(0.2))\n",
        "cbow_model.add(Dense(units=vocab_length, activation='softmax'))\n",
        "\n",
        "cbow_model.compile(optimizer='adam', loss='categorical_crossentropy', metrics=['accuracy'])\n",
        "cbow_model.fit(X_train, y_train, epochs=100)\n",
        "\n"
      ]
    },
    {
      "cell_type": "code",
      "source": [
        "cbow_model.save_weights('cbow_model.weights.h5')\n"
      ],
      "metadata": {
        "id": "L6SXWGBYzqaT"
      },
      "execution_count": 27,
      "outputs": []
    },
    {
      "cell_type": "markdown",
      "metadata": {
        "id": "mLodiHWkqaL4"
      },
      "source": [
        "# Predicting a Word Using the Trained CBOW Model"
      ]
    },
    {
      "cell_type": "markdown",
      "metadata": {
        "id": "_SRP_chYqYKS"
      },
      "source": [
        "In this step, we define a function to predict a word based on a given context using the trained CBOW model.\n",
        "\n",
        "1. **Function: `predict_word`**:\n",
        "   - **Input**: The function takes a list of context words as input. The number of context words should match the expected size (2 times the window size).\n",
        "   - **Context sequence conversion**: The input context words are tokenized into a sequence of integers using the same tokenizer that was used during training.\n",
        "   - **Input validation**: The function checks whether the length of the context sequence matches the expected size (2 times the window size). If not, it prints an error message.\n",
        "   - **Prediction**: The tokenized context is fed into the trained CBOW model, which predicts the probability distribution over the vocabulary.\n",
        "   - **Retrieve predicted word**: The predicted word is the one with the highest probability. The function retrieves the word corresponding to the predicted index from the tokenizer's word index.\n",
        "\n",
        "2. **Example**:\n",
        "   - We provide a sample context: `['الحادث', 'بسبب', 'مزدحم', 'الطريق']`.\n",
        "   - The function predicts the word that fits best in this context, based on the model's learned weights.\n",
        "   - The predicted word is printed along with the input context.\n",
        "\n",
        "This function allows us to test the CBOW model by predicting words based on their surrounding context from the corpus."
      ]
    },
    {
      "cell_type": "code",
      "execution_count": 28,
      "metadata": {
        "id": "ykhSWJY0qgCI"
      },
      "outputs": [],
      "source": [
        "def predict_missing_word(context_words, model, tokenizer, win_size, vocab_len):\n",
        "    context_tokens = [tokenizer.word_index[w] for w in context_words if w in tokenizer.word_index]\n",
        "    context_tokens = np.array(context_tokens).reshape(1, -1)\n",
        "    predicted_probs = model.predict(context_tokens)\n",
        "    predicted_idx = np.argmax(predicted_probs)\n",
        "    predicted_word = tokenizer.index_word[predicted_idx]\n",
        "    print(f\"Context: {' '.join(context_words)} -> Predicted word: {predicted_word}\")\n"
      ]
    },
    {
      "cell_type": "code",
      "source": [
        "example_sentence = [\"الطريق مزدحم بسبب الحادث\"]\n",
        "ctx_words = example_sentence[0].split()\n",
        "predict_missing_word(ctx_words, cbow_model, text_tokenizer, win_size, vocab_length)\n"
      ],
      "metadata": {
        "colab": {
          "base_uri": "https://localhost:8080/"
        },
        "id": "im4bmbbRjxB8",
        "outputId": "3b92f4bd-233e-44dd-f54b-5617a935cdac"
      },
      "execution_count": 29,
      "outputs": [
        {
          "output_type": "stream",
          "name": "stdout",
          "text": [
            "\u001b[1m1/1\u001b[0m \u001b[32m━━━━━━━━━━━━━━━━━━━━\u001b[0m\u001b[37m\u001b[0m \u001b[1m0s\u001b[0m 135ms/step\n",
            "Context: الطريق مزدحم بسبب الحادث -> Predicted word: اليوم\n"
          ]
        }
      ]
    }
  ],
  "metadata": {
    "colab": {
      "provenance": []
    },
    "kernelspec": {
      "display_name": "Python 3",
      "name": "python3"
    },
    "language_info": {
      "name": "python"
    }
  },
  "nbformat": 4,
  "nbformat_minor": 0
}