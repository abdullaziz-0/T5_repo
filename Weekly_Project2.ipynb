{
  "cells": [
    {
      "cell_type": "markdown",
      "metadata": {
        "id": "view-in-github",
        "colab_type": "text"
      },
      "source": [
        "<a href=\"https://colab.research.google.com/github/abdullaziz-0/T5_repo/blob/main/Weekly_Project2.ipynb\" target=\"_parent\"><img src=\"https://colab.research.google.com/assets/colab-badge.svg\" alt=\"Open In Colab\"/></a>"
      ]
    },
    {
      "cell_type": "markdown",
      "id": "5749a10a",
      "metadata": {
        "id": "5749a10a"
      },
      "source": [
        "# Weekly Project 2!"
      ]
    },
    {
      "cell_type": "markdown",
      "id": "92d44841",
      "metadata": {
        "id": "92d44841"
      },
      "source": [
        "## Introduction to Road Traffic Accidents (RTA) Dataset\n",
        "\n",
        "### Dataset Overview\n",
        "The RTA Dataset provides a detailed snapshot of road traffic accidents, capturing a range of data from accident conditions to casualty details. This dataset is essential for analyzing patterns and causes of accidents to improve road safety.\n",
        "\n",
        "### Data Characteristics\n",
        "- **Entries**: The dataset contains 12,316 entries.\n",
        "- **Features**: There are 32 features in the dataset, which include:\n",
        "  - `Time`: Time when the accident occurred.\n",
        "  - `Day_of_week`: Day of the week.\n",
        "  - `Age_band_of_driver`: Age group of the driver involved.\n",
        "  - `Sex_of_driver`: Gender of the driver.\n",
        "  - `Educational_level`: Educational level of the driver.\n",
        "  - `Type_of_vehicle`: Type of vehicle involved in the accident.\n",
        "  - `Cause_of_accident`: Reported cause of the accident.\n",
        "  - `Accident_severity`: Severity of the accident.\n",
        "- **Target Column**: `Accident_severity` is used as the target column for modeling. This feature classifies the severity of each accident.\n",
        "\n",
        "### Objective\n",
        "Students will use this dataset to apply various data visualization, modeling, and evaluation techniques learned in class. The primary goal is to build models that can accurately predict the severity of accidents and to identify the key factors that contribute to severe accidents."
      ]
    },
    {
      "cell_type": "markdown",
      "id": "177291c2",
      "metadata": {
        "id": "177291c2"
      },
      "source": [
        "## Import Libraries\n",
        "Import all the necessary libraries here. Include libraries for handling data (like pandas), visualization (like matplotlib and seaborn), and modeling (like scikit-learn)."
      ]
    },
    {
      "cell_type": "code",
      "execution_count": 265,
      "id": "2ad2bd0e",
      "metadata": {
        "id": "2ad2bd0e"
      },
      "outputs": [],
      "source": [
        "import pandas as pd\n",
        "import numpy as np\n",
        "import seaborn as sns\n",
        "import matplotlib.pyplot as plt"
      ]
    },
    {
      "cell_type": "markdown",
      "id": "5f236af2",
      "metadata": {
        "id": "5f236af2"
      },
      "source": [
        "## Load Data\n",
        "Load the dataset from the provided CSV file into a DataFrame."
      ]
    },
    {
      "cell_type": "code",
      "execution_count": 266,
      "id": "2d3f76e8",
      "metadata": {
        "id": "2d3f76e8"
      },
      "outputs": [],
      "source": [
        "df=pd.read_csv('/content/RTA_Dataset.csv')"
      ]
    },
    {
      "cell_type": "markdown",
      "id": "b9215c2f",
      "metadata": {
        "id": "b9215c2f"
      },
      "source": [
        "## Exploratory Data Analysis (EDA)\n",
        "Perform EDA to understand the data better. This involves several steps to summarize the main characteristics, uncover patterns, and establish relationships:\n",
        "* Find the dataset information and observe the datatypes.\n",
        "* Check the shape of the data to understand its structure.\n",
        "* View the the data with various functions to get an initial sense of the data.\n",
        "* Perform summary statistics on the dataset to grasp central tendencies and variability.\n",
        "* Check for duplicated data.\n",
        "* Check for null values.\n",
        "\n",
        "And apply more if needed!\n"
      ]
    },
    {
      "cell_type": "code",
      "execution_count": 267,
      "id": "b206f836",
      "metadata": {
        "id": "b206f836",
        "outputId": "f45067f6-7b0b-43dc-8f2f-3c20df28f82b",
        "colab": {
          "base_uri": "https://localhost:8080/"
        }
      },
      "outputs": [
        {
          "output_type": "stream",
          "name": "stdout",
          "text": [
            "0\n",
            "Time                              0\n",
            "Day_of_week                       0\n",
            "Age_band_of_driver                0\n",
            "Sex_of_driver                     0\n",
            "Educational_level               741\n",
            "Vehicle_driver_relation         579\n",
            "Driving_experience              829\n",
            "Type_of_vehicle                 950\n",
            "Owner_of_vehicle                482\n",
            "Service_year_of_vehicle        3928\n",
            "Defect_of_vehicle              4427\n",
            "Area_accident_occured           239\n",
            "Lanes_or_Medians                385\n",
            "Road_allignment                 142\n",
            "Types_of_Junction               887\n",
            "Road_surface_type               172\n",
            "Road_surface_conditions           0\n",
            "Light_conditions                  0\n",
            "Weather_conditions                0\n",
            "Type_of_collision               155\n",
            "Number_of_vehicles_involved       0\n",
            "Number_of_casualties              0\n",
            "Vehicle_movement                308\n",
            "Casualty_class                    0\n",
            "Sex_of_casualty                   0\n",
            "Age_band_of_casualty              0\n",
            "Casualty_severity                 0\n",
            "Work_of_casuality              3198\n",
            "Fitness_of_casuality           2635\n",
            "Pedestrian_movement               0\n",
            "Cause_of_accident                 0\n",
            "Accident_severity                 0\n",
            "dtype: int64\n"
          ]
        }
      ],
      "source": [
        "print(df.duplicated().sum())\n",
        "print(df.isna().sum())\n"
      ]
    },
    {
      "cell_type": "markdown",
      "id": "bccfb706",
      "metadata": {
        "id": "bccfb706"
      },
      "source": [
        "## Data Preprocessing\n",
        "Data preprocessing is essential for transforming raw data into a format suitable for further analysis and modeling. Follow these steps to ensure your data is ready for predictive modeling or advanced analytics:\n",
        "- **Handling Missing Values**: Replace missing values with appropriate statistics (mean, median, mode) or use more complex imputation techniques.\n",
        "- **Normalization/Scaling**: Scale data to a small, specified range like 0 to 1, or transform it to have a mean of zero and a standard deviation of one.\n",
        "- **Label Encoding**: Convert categorical text data into model-understandable numbers where the labels are ordered.\n",
        "- **One-Hot Encoding**: Use for nominal categorical data where no ordinal relationship exists to transform the data into a binary column for each category. (Be careful not to increase the dimensionality significantly)\n",
        "- **Detection and Treatment of Outliers**: Use statistical tests, box plots, or scatter plots to identify outliers and then cap, trim, or use robust methods to reduce the effect of outliers, depending on the context.\n",
        "- **Feature Engineering**: Enhance your dataset by creating new features and transforming existing ones. This might involve combining data from different columns, applying transformations, or reducing dimensionality with techniques like PCA to improve model performance.\n",
        "\n",
        "Consider these steps as a foundation, and feel free to introduce additional preprocessing techniques as needed to address specific characteristics of your dataset."
      ]
    },
    {
      "cell_type": "code",
      "execution_count": 268,
      "id": "14c4a6fd",
      "metadata": {
        "id": "14c4a6fd",
        "outputId": "cdf56f76-ff49-4813-920d-6e5bcb3c2cbc",
        "colab": {
          "base_uri": "https://localhost:8080/",
          "height": 961
        }
      },
      "outputs": [
        {
          "output_type": "execute_result",
          "data": {
            "text/plain": [
              "Time                           0\n",
              "Day_of_week                    0\n",
              "Age_band_of_driver             0\n",
              "Sex_of_driver                  0\n",
              "Educational_level              0\n",
              "Vehicle_driver_relation        0\n",
              "Driving_experience             0\n",
              "Type_of_vehicle                0\n",
              "Owner_of_vehicle               0\n",
              "Area_accident_occured          0\n",
              "Lanes_or_Medians               0\n",
              "Road_allignment                0\n",
              "Types_of_Junction              0\n",
              "Road_surface_type              0\n",
              "Road_surface_conditions        0\n",
              "Light_conditions               0\n",
              "Weather_conditions             0\n",
              "Type_of_collision              0\n",
              "Number_of_vehicles_involved    0\n",
              "Number_of_casualties           0\n",
              "Vehicle_movement               0\n",
              "Casualty_class                 0\n",
              "Sex_of_casualty                0\n",
              "Age_band_of_casualty           0\n",
              "Casualty_severity              0\n",
              "Pedestrian_movement            0\n",
              "Cause_of_accident              0\n",
              "Accident_severity              0\n",
              "dtype: int64"
            ],
            "text/html": [
              "<table border=\"1\" class=\"dataframe\">\n",
              "  <thead>\n",
              "    <tr style=\"text-align: right;\">\n",
              "      <th></th>\n",
              "      <th>0</th>\n",
              "    </tr>\n",
              "  </thead>\n",
              "  <tbody>\n",
              "    <tr>\n",
              "      <th>Time</th>\n",
              "      <td>0</td>\n",
              "    </tr>\n",
              "    <tr>\n",
              "      <th>Day_of_week</th>\n",
              "      <td>0</td>\n",
              "    </tr>\n",
              "    <tr>\n",
              "      <th>Age_band_of_driver</th>\n",
              "      <td>0</td>\n",
              "    </tr>\n",
              "    <tr>\n",
              "      <th>Sex_of_driver</th>\n",
              "      <td>0</td>\n",
              "    </tr>\n",
              "    <tr>\n",
              "      <th>Educational_level</th>\n",
              "      <td>0</td>\n",
              "    </tr>\n",
              "    <tr>\n",
              "      <th>Vehicle_driver_relation</th>\n",
              "      <td>0</td>\n",
              "    </tr>\n",
              "    <tr>\n",
              "      <th>Driving_experience</th>\n",
              "      <td>0</td>\n",
              "    </tr>\n",
              "    <tr>\n",
              "      <th>Type_of_vehicle</th>\n",
              "      <td>0</td>\n",
              "    </tr>\n",
              "    <tr>\n",
              "      <th>Owner_of_vehicle</th>\n",
              "      <td>0</td>\n",
              "    </tr>\n",
              "    <tr>\n",
              "      <th>Area_accident_occured</th>\n",
              "      <td>0</td>\n",
              "    </tr>\n",
              "    <tr>\n",
              "      <th>Lanes_or_Medians</th>\n",
              "      <td>0</td>\n",
              "    </tr>\n",
              "    <tr>\n",
              "      <th>Road_allignment</th>\n",
              "      <td>0</td>\n",
              "    </tr>\n",
              "    <tr>\n",
              "      <th>Types_of_Junction</th>\n",
              "      <td>0</td>\n",
              "    </tr>\n",
              "    <tr>\n",
              "      <th>Road_surface_type</th>\n",
              "      <td>0</td>\n",
              "    </tr>\n",
              "    <tr>\n",
              "      <th>Road_surface_conditions</th>\n",
              "      <td>0</td>\n",
              "    </tr>\n",
              "    <tr>\n",
              "      <th>Light_conditions</th>\n",
              "      <td>0</td>\n",
              "    </tr>\n",
              "    <tr>\n",
              "      <th>Weather_conditions</th>\n",
              "      <td>0</td>\n",
              "    </tr>\n",
              "    <tr>\n",
              "      <th>Type_of_collision</th>\n",
              "      <td>0</td>\n",
              "    </tr>\n",
              "    <tr>\n",
              "      <th>Number_of_vehicles_involved</th>\n",
              "      <td>0</td>\n",
              "    </tr>\n",
              "    <tr>\n",
              "      <th>Number_of_casualties</th>\n",
              "      <td>0</td>\n",
              "    </tr>\n",
              "    <tr>\n",
              "      <th>Vehicle_movement</th>\n",
              "      <td>0</td>\n",
              "    </tr>\n",
              "    <tr>\n",
              "      <th>Casualty_class</th>\n",
              "      <td>0</td>\n",
              "    </tr>\n",
              "    <tr>\n",
              "      <th>Sex_of_casualty</th>\n",
              "      <td>0</td>\n",
              "    </tr>\n",
              "    <tr>\n",
              "      <th>Age_band_of_casualty</th>\n",
              "      <td>0</td>\n",
              "    </tr>\n",
              "    <tr>\n",
              "      <th>Casualty_severity</th>\n",
              "      <td>0</td>\n",
              "    </tr>\n",
              "    <tr>\n",
              "      <th>Pedestrian_movement</th>\n",
              "      <td>0</td>\n",
              "    </tr>\n",
              "    <tr>\n",
              "      <th>Cause_of_accident</th>\n",
              "      <td>0</td>\n",
              "    </tr>\n",
              "    <tr>\n",
              "      <th>Accident_severity</th>\n",
              "      <td>0</td>\n",
              "    </tr>\n",
              "  </tbody>\n",
              "</table><br><label><b>dtype:</b> int64</label>"
            ]
          },
          "metadata": {},
          "execution_count": 268
        }
      ],
      "source": [
        "columns_to_fill_mode = [\n",
        "    'Educational_level', 'Age_band_of_driver', 'Vehicle_driver_relation',\n",
        "    'Driving_experience', 'Type_of_vehicle', 'Owner_of_vehicle',\n",
        "    'Area_accident_occured', 'Lanes_or_Medians', 'Road_allignment',\n",
        "    'Types_of_Junction', 'Road_surface_type', 'Vehicle_movement', 'Type_of_collision'\n",
        "]\n",
        "\n",
        "for column in columns_to_fill_mode:\n",
        "    df[column].fillna(df[column].mode()[0], inplace=True)\n",
        "\n",
        "\n",
        "df=df.drop('Service_year_of_vehicle',axis=1)\n",
        "df=df.drop('Defect_of_vehicle',axis=1)\n",
        "df=df.drop('Work_of_casuality',axis=1)\n",
        "df=df.drop('Fitness_of_casuality',axis=1)\n",
        "df.isnull().sum()\n",
        "\n",
        "\n"
      ]
    },
    {
      "cell_type": "markdown",
      "id": "292ab9c9",
      "metadata": {
        "id": "292ab9c9"
      },
      "source": [
        "## Data Visualization\n",
        "Create various plots to visualize the relationships in the data. Consider using the following to show different aspects of the data:\n",
        "\n",
        "* Heatmap of Correlation Matrix.\n",
        "* Line plots.\n",
        "* Scatter plots.\n",
        "* Histograms.\n",
        "* Boxplots.\n",
        "\n",
        "Use more if needed!"
      ]
    },
    {
      "cell_type": "code",
      "execution_count": 269,
      "id": "5cfa25ae",
      "metadata": {
        "id": "5cfa25ae",
        "outputId": "b8800ae8-807b-4959-eaf7-37d37b148def",
        "colab": {
          "base_uri": "https://localhost:8080/",
          "height": 452
        }
      },
      "outputs": [
        {
          "output_type": "display_data",
          "data": {
            "text/plain": [
              "<Figure size 640x480 with 1 Axes>"
            ],
            "image/png": "[encoded data removed]"
          },
          "metadata": {}
        }
      ],
      "source": [
        "plt.hist(x='Accident_severity', data=df)\n",
        "plt.title('Distribution of Accident Severity')\n",
        "plt.show()"
      ]
    },
    {
      "cell_type": "markdown",
      "id": "40ce1d71",
      "metadata": {
        "id": "40ce1d71"
      },
      "source": [
        "## Feature Selection\n",
        "- Choose features that you believe will most influence the outcome based on your analysis and the insights from your visualizations. Focus on those that appear most impactful to include in your modeling.\n",
        "\n",
        "## Train-Test Split\n",
        "* Divide the dataset into training and testing sets to evaluate the performance of your models."
      ]
    },
    {
      "cell_type": "code",
      "execution_count": 270,
      "id": "f6570748",
      "metadata": {
        "id": "f6570748"
      },
      "outputs": [],
      "source": [
        "from sklearn.model_selection import train_test_split\n",
        "from sklearn.preprocessing import LabelEncoder\n",
        "\n",
        "target_column = 'Accident_severity'\n",
        "features = df.drop(columns=[target_column])\n",
        "target = df[target_column]\n",
        "\n",
        "label_encoders = {}\n",
        "\n",
        "for col in features.select_dtypes(include=['object']).columns:\n",
        "    label_encoders[col] = LabelEncoder()\n",
        "    features[col] = label_encoders[col].fit_transform(features[col])\n",
        "train_features, test_features, train_labels, test_labels = train_test_split(\n",
        "    features, target, test_size=0.3, random_state=42\n",
        ")"
      ]
    },
    {
      "cell_type": "markdown",
      "id": "e74a5058",
      "metadata": {
        "id": "e74a5058"
      },
      "source": [
        "## Modeling\n",
        "\n",
        "Once the data is split into training and testing sets, the next step is to build models to make predictions. Here, we will explore several machine learning algorithms, each with its unique characteristics and suitability for different types of data and problems. You will implement the following models:\n",
        "\n",
        "### 1. Logistic Regression\n",
        "\n",
        "### 2. Decision Tree Classifier\n",
        "\n",
        "### 3. Support Vector Machine (SVM)\n",
        "\n",
        "### 4. K-Neighbors Classifier\n",
        "\n",
        "### Implementing the Models\n",
        "- For each model, use the training data you have prepared to train the model."
      ]
    },
    {
      "cell_type": "markdown",
      "id": "1a6c9815",
      "metadata": {
        "id": "1a6c9815"
      },
      "source": [
        "#### Logistic Regression"
      ]
    },
    {
      "cell_type": "code",
      "execution_count": 271,
      "id": "d35137d1",
      "metadata": {
        "id": "d35137d1",
        "outputId": "a71f52fd-a7da-4d64-cf88-7c7e525fd3da",
        "colab": {
          "base_uri": "https://localhost:8080/"
        }
      },
      "outputs": [
        {
          "output_type": "stream",
          "name": "stderr",
          "text": [
            "/usr/local/lib/python3.10/dist-packages/sklearn/linear_model/_logistic.py:460: ConvergenceWarning: lbfgs failed to converge (status=1):\n",
            "STOP: TOTAL NO. of ITERATIONS REACHED LIMIT.\n",
            "\n",
            "Increase the number of iterations (max_iter) or scale the data as shown in:\n",
            "    https://scikit-learn.org/stable/modules/preprocessing.html\n",
            "Please also refer to the documentation for alternative solver options:\n",
            "    https://scikit-learn.org/stable/modules/linear_model.html#logistic-regression\n",
            "  n_iter_i = _check_optimize_result(\n"
          ]
        }
      ],
      "source": [
        "from sklearn.linear_model import LogisticRegression\n",
        "logistic_model = LogisticRegression(solver=\"lbfgs\", random_state=42)\n",
        "logistic_model.fit(train_features, train_labels)\n",
        "logistic_predictions = logistic_model.predict(test_features)\n",
        "logistic_probabilities = logistic_model.predict_proba(test_features)[:, 1]"
      ]
    },
    {
      "cell_type": "markdown",
      "id": "0cfd5ecb",
      "metadata": {
        "id": "0cfd5ecb"
      },
      "source": [
        "#### Decision Tree Classifier"
      ]
    },
    {
      "cell_type": "code",
      "execution_count": 272,
      "id": "0ba4edd5",
      "metadata": {
        "id": "0ba4edd5"
      },
      "outputs": [],
      "source": [
        "\n",
        "from sklearn.tree import DecisionTreeClassifier\n",
        "\n",
        "tree_model = DecisionTreeClassifier(random_state=42,min_samples_leaf=10,)\n",
        "tree_model.fit(train_features, train_labels)\n",
        "y_pred_tree = tree_model.predict(test_features)\n",
        "y_pred_prob_tree = tree_model.predict_proba(test_features)[:, 1]"
      ]
    },
    {
      "cell_type": "markdown",
      "id": "7ce21487",
      "metadata": {
        "id": "7ce21487"
      },
      "source": [
        "#### Support Vector Machine (SVM)"
      ]
    },
    {
      "cell_type": "code",
      "execution_count": 273,
      "id": "6f448f26",
      "metadata": {
        "id": "6f448f26"
      },
      "outputs": [],
      "source": [
        "from sklearn.svm import SVC\n",
        "svm_model = SVC(\n",
        "    C=1.0,\n",
        "    kernel='rbf',\n",
        "    gamma='scale',\n",
        "    random_state=42,probability=True\n",
        ")\n",
        "svm_model.fit(train_features, train_labels)\n",
        "\n",
        "y_pred_svm = svm_model.predict(test_features)\n",
        "y_pred_prob_svm = svm_model.predict_proba(test_features)[:, 1]\n",
        "svm_model = SVC(C=1.0,kernel='rbf',gamma='scale',random_state=42)"
      ]
    },
    {
      "cell_type": "markdown",
      "id": "f3656932",
      "metadata": {
        "id": "f3656932"
      },
      "source": [
        "#### K-Neighbors Classifier"
      ]
    },
    {
      "cell_type": "code",
      "execution_count": 274,
      "id": "c8c73d33",
      "metadata": {
        "id": "c8c73d33"
      },
      "outputs": [],
      "source": [
        "from sklearn.neighbors import KNeighborsClassifier\n",
        "\n",
        "knn_model = KNeighborsClassifier(\n",
        "    n_neighbors=5,\n",
        "    weights='uniform',\n",
        ")\n",
        "knn_model.fit(train_features, train_labels)\n",
        "\n",
        "y_pred_knn = knn_model.predict(test_features)\n",
        "y_pred_prob_knn = knn_model.predict_proba(test_features)[:, 1]\n",
        "\n"
      ]
    },
    {
      "cell_type": "markdown",
      "id": "12057ba0",
      "metadata": {
        "id": "12057ba0"
      },
      "source": [
        "## Model Evaluation\n",
        "\n",
        "After training your models, it's crucial to evaluate their performance to understand their effectiveness and limitations. This section outlines various techniques and metrics to assess the performance of each model you have implemented.\n",
        "\n",
        "### Evaluation Techniques\n",
        "1. **Confusion Matrix**\n",
        "\n",
        "2. **Accuracy**\n",
        "\n",
        "3. **Precision and Recall**\n",
        "\n",
        "4. **F1 Score**\n",
        "\n",
        "5. **ROC Curve and AUC**\n",
        "\n",
        "### Implementing Evaluation\n",
        "- Calculate the metrics listed above using your test data."
      ]
    },
    {
      "cell_type": "code",
      "execution_count": 275,
      "id": "c8328067",
      "metadata": {
        "id": "c8328067",
        "outputId": "e9e249c9-6c15-4ce3-ecc1-b9432db808a4",
        "colab": {
          "base_uri": "https://localhost:8080/"
        }
      },
      "outputs": [
        {
          "output_type": "stream",
          "name": "stderr",
          "text": [
            "/usr/local/lib/python3.10/dist-packages/sklearn/metrics/_classification.py:1471: UndefinedMetricWarning: Precision is ill-defined and being set to 0.0 in labels with no predicted samples. Use `zero_division` parameter to control this behavior.\n",
            "  _warn_prf(average, modifier, msg_start, len(result))\n",
            "/usr/local/lib/python3.10/dist-packages/sklearn/metrics/_classification.py:1471: UndefinedMetricWarning: Precision is ill-defined and being set to 0.0 in labels with no predicted samples. Use `zero_division` parameter to control this behavior.\n",
            "  _warn_prf(average, modifier, msg_start, len(result))\n"
          ]
        },
        {
          "output_type": "stream",
          "name": "stdout",
          "text": [
            "Logistic Regression:\n",
            "Accuracy: 0.8365358592692829\n",
            "Precision: 0.6997922438433973\n",
            "Recall: 0.8365358592692829\n",
            "F1 Score: 0.7620784972005167\n",
            "Confusion Matrix:\n",
            "[[   0    0   52]\n",
            " [   0    0  552]\n",
            " [   0    0 3091]]\n",
            "Decision Tree Classifier:\n",
            "Accuracy: 0.801894451962111\n",
            "Precision: 0.771817790592168\n",
            "Recall: 0.801894451962111\n",
            "F1 Score: 0.7812801458814883\n",
            "Confusion Matrix:\n",
            "[[   3   10   39]\n",
            " [   2  115  435]\n",
            " [   0  246 2845]]\n",
            "Support Vector Machine (SVM):\n",
            "Accuracy: 0.8365358592692829\n",
            "Precision: 0.6997922438433973\n",
            "Recall: 0.8365358592692829\n",
            "F1 Score: 0.7620784972005167\n",
            "Confusion Matrix:\n",
            "[[   0    0   52]\n",
            " [   0    0  552]\n",
            " [   0    0 3091]]\n",
            "K-Neighbors Classifier:\n",
            "Accuracy: 0.823274695534506\n",
            "Precision: 0.7582776295215141\n",
            "Recall: 0.823274695534506\n",
            "F1 Score: 0.7747400020457695\n",
            "Confusion Matrix:\n",
            "[[   3    6   43]\n",
            " [   1   42  509]\n",
            " [   2   92 2997]]\n"
          ]
        }
      ],
      "source": [
        "from sklearn.metrics import accuracy_score, precision_score, recall_score, f1_score, roc_curve, auc, confusion_matrix\n",
        "\n",
        "accuracy_logistic = accuracy_score(test_labels, logistic_predictions)\n",
        "precision_logistic = precision_score(test_labels, logistic_predictions, average='weighted')\n",
        "recall_logistic = recall_score(test_labels, logistic_predictions, average='weighted')\n",
        "f1_logistic = f1_score(test_labels, logistic_predictions, average='weighted')\n",
        "conf_matrix_logistic = confusion_matrix(test_labels, logistic_predictions)\n",
        "fpr_logistic, tpr_logistic, _ = roc_curve(test_labels, logistic_probabilities, pos_label=logistic_model.classes_[1])\n",
        "roc_auc_logistic = auc(fpr_logistic, tpr_logistic)\n",
        "\n",
        "print(\"Logistic Regression:\")\n",
        "print(f\"Accuracy: {accuracy_logistic}\")\n",
        "print(f\"Precision: {precision_logistic}\")\n",
        "print(f\"Recall: {recall_logistic}\")\n",
        "print(f\"F1 Score: {f1_logistic}\")\n",
        "print(\"Confusion Matrix:\")\n",
        "print(conf_matrix_logistic)\n",
        "\n",
        "# Decision Tree Classifier\n",
        "accuracy_decision_tree = accuracy_score(test_labels, y_pred_tree)\n",
        "precision_decision_tree = precision_score(test_labels, y_pred_tree, average='weighted')\n",
        "recall_decision_tree = recall_score(test_labels, y_pred_tree, average='weighted')\n",
        "f1_decision_tree = f1_score(test_labels, y_pred_tree, average='weighted')\n",
        "conf_matrix_decision_tree = confusion_matrix(test_labels, y_pred_tree)\n",
        "\n",
        "\n",
        "print(\"Decision Tree Classifier:\")\n",
        "print(f\"Accuracy: {accuracy_decision_tree}\")\n",
        "print(f\"Precision: {precision_decision_tree}\")\n",
        "print(f\"Recall: {recall_decision_tree}\")\n",
        "print(f\"F1 Score: {f1_decision_tree}\")\n",
        "print(\"Confusion Matrix:\")\n",
        "print(conf_matrix_decision_tree)\n",
        "\n",
        "accuracy_svm = accuracy_score(test_labels, y_pred_svm)\n",
        "precision_svm = precision_score(test_labels, y_pred_svm, average='weighted')\n",
        "recall_svm = recall_score(test_labels, y_pred_svm, average='weighted')\n",
        "f1_svm = f1_score(test_labels, y_pred_svm, average='weighted')\n",
        "conf_matrix_svm = confusion_matrix(test_labels, y_pred_svm)\n",
        "\n",
        "\n",
        "print(\"Support Vector Machine (SVM):\")\n",
        "print(f\"Accuracy: {accuracy_svm}\")\n",
        "print(f\"Precision: {precision_svm}\")\n",
        "print(f\"Recall: {recall_svm}\")\n",
        "print(f\"F1 Score: {f1_svm}\")\n",
        "print(\"Confusion Matrix:\")\n",
        "print(conf_matrix_svm)\n",
        "\n",
        "accuracy_knn = accuracy_score(test_labels, y_pred_knn)\n",
        "precision_knn = precision_score(test_labels, y_pred_knn, average='weighted')\n",
        "recall_knn = recall_score(test_labels, y_pred_knn, average='weighted')\n",
        "f1_knn = f1_score(test_labels, y_pred_knn, average='weighted')\n",
        "conf_matrix_knn = confusion_matrix(test_labels, y_pred_knn)\n",
        "\n",
        "\n",
        "print(\"K-Neighbors Classifier:\")\n",
        "print(f\"Accuracy: {accuracy_knn}\")\n",
        "print(f\"Precision: {precision_knn}\")\n",
        "print(f\"Recall: {recall_knn}\")\n",
        "print(f\"F1 Score: {f1_knn}\")\n",
        "print(\"Confusion Matrix:\")\n",
        "print(conf_matrix_knn)\n"
      ]
    },
    {
      "cell_type": "markdown",
      "id": "65f17c12",
      "metadata": {
        "id": "65f17c12"
      },
      "source": [
        "## Project Questions:\n",
        "\n",
        "### Comparative Analysis\n",
        "\n",
        "- **Compare Metrics**: Examine the performance metrics (such as accuracy, precision, and recall) of each model. Document your observations on which model performs best for your dataset and the problem you're addressing.\n",
        "- **Evaluate Trade-offs**: Discuss the trade-offs you encountered when choosing between models. Consider factors like computational efficiency, ease of implementation, and model interpretability.\n",
        "- **Justify Your Choice**: After comparing and evaluating, explain why you believe one model is the best choice. Provide a clear rationale based on the performance metrics and trade-offs discussed.\n",
        "- **Feature Importance**: Identify and discuss the most important features for the best-performing model. How do these features impact the predictions? Use the visualizations you have created to justify your answer if necessary.\n",
        "- **Model Limitations**: Discuss any limitations you encountered with the models you used. Are there any aspects of the data or the problem that these models do not handle well?\n",
        "- **Future Improvements**: Suggest potential improvements or further steps you could take to enhance model performance. This could include trying different algorithms, feature engineering techniques, or tuning hyperparameters."
      ]
    },
    {
      "cell_type": "markdown",
      "id": "76425529",
      "metadata": {
        "id": "76425529"
      },
      "source": [
        "### Answer Here:"
      ]
    },
    {
      "cell_type": "markdown",
      "source": [
        "Comparative Analysis:\n",
        "\n",
        "Compare Metrics: Decision Tree Classifier has the highest F1 score (0.781) indicating better balance between precision and recall.\n",
        "Evaluate Trade-offs: Logistic Regression and SVM are computationally efficient but less interpretable compared to Decision Tree.\n",
        "Justify Your Choice: Decision Tree is preferred due to its higher F1 score, offering a better balance of precision and recall for the dataset.\n",
        "Feature Importance: Decision Tree's feature importance can be easily visualized and interpreted, impacting predictions by highlighting key features.\n",
        "Model Limitations: All models struggled with predicting minority classes, as indicated by the confusion matrices and undefined precision warnings.\n",
        "Future Improvements: Consider trying ensemble methods like Random Forest or Gradient Boosting, and performing hyperparameter tuning to enhance model performance."
      ],
      "metadata": {
        "id": "edyzVSVq8e5x"
      },
      "id": "edyzVSVq8e5x"
    }
  ],
  "metadata": {
    "language_info": {
      "name": "python"
    },
    "colab": {
      "provenance": [],
      "include_colab_link": true
    },
    "kernelspec": {
      "name": "python3",
      "display_name": "Python 3"
    }
  },
  "nbformat": 4,
  "nbformat_minor": 5
}